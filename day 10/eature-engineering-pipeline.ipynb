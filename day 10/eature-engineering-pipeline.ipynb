{
 "cells": [
  {
   "cell_type": "code",
   "execution_count": 1,
   "id": "0c0a5395",
   "metadata": {},
   "outputs": [],
   "source": [
    "import pandas as pd\n",
    "import seaborn as sns"
   ]
  },
  {
   "cell_type": "code",
   "execution_count": 2,
   "id": "a7cec7bd",
   "metadata": {},
   "outputs": [],
   "source": [
    "titanic = sns.load_dataset(\"titanic\")"
   ]
  },
  {
   "cell_type": "code",
   "execution_count": 3,
   "id": "99855e93",
   "metadata": {},
   "outputs": [],
   "source": [
    "titanic = titanic[['pclass','sex','age','fare','embarked','survived']].dropna()"
   ]
  },
  {
   "cell_type": "code",
   "execution_count": null,
   "id": "422596fe",
   "metadata": {},
   "outputs": [],
   "source": [
    "X = titanic.drop(\"survived\", axis=1)\n",
    "y = titanic[\"survived\"]"
   ]
  },
  {
   "cell_type": "markdown",
   "id": "7a93a36f",
   "metadata": {},
   "source": [
    "***Train / Validation / Test Split***"
   ]
  },
  {
   "cell_type": "code",
   "execution_count": 5,
   "id": "6f179502",
   "metadata": {},
   "outputs": [],
   "source": [
    "from sklearn.model_selection import train_test_split"
   ]
  },
  {
   "cell_type": "code",
   "execution_count": 6,
   "id": "2ad8f001",
   "metadata": {},
   "outputs": [],
   "source": [
    "X_trainval, X_test, y_trainval, y_test = train_test_split(\n",
    "    X, y, test_size=0.2, random_state=42, stratify=y)"
   ]
  },
  {
   "cell_type": "code",
   "execution_count": 7,
   "id": "8f9ef192",
   "metadata": {},
   "outputs": [],
   "source": [
    "X_train, X_val, y_train, y_val = train_test_split(\n",
    "    X_trainval, y_trainval, test_size=0.2, random_state=42, stratify=y_trainval\n",
    ")"
   ]
  },
  {
   "cell_type": "markdown",
   "id": "73785659",
   "metadata": {},
   "source": [
    "***Build ColumnTransformer***"
   ]
  },
  {
   "cell_type": "code",
   "execution_count": 8,
   "id": "01efe56c",
   "metadata": {},
   "outputs": [],
   "source": [
    "from sklearn.preprocessing import StandardScaler, OneHotEncoder\n",
    "from sklearn.compose import ColumnTransformer\n",
    "from sklearn.pipeline import Pipeline\n",
    "from sklearn.linear_model import LogisticRegression"
   ]
  },
  {
   "cell_type": "code",
   "execution_count": 9,
   "id": "265b1ad7",
   "metadata": {},
   "outputs": [],
   "source": [
    "num_features = ['age', 'fare']\n",
    "cat_features = ['pclass', 'sex', 'embarked']"
   ]
  },
  {
   "cell_type": "code",
   "execution_count": 10,
   "id": "58540f6b",
   "metadata": {},
   "outputs": [],
   "source": [
    "numeric_transformer = StandardScaler()\n",
    "categorical_transformer = OneHotEncoder(drop=\"first\")"
   ]
  },
  {
   "cell_type": "code",
   "execution_count": 11,
   "id": "ed42567d",
   "metadata": {},
   "outputs": [],
   "source": [
    "preprocessor = ColumnTransformer(\n",
    "    transformers=[\n",
    "        ('num', numeric_transformer, num_features),\n",
    "        ('cat', categorical_transformer, cat_features)\n",
    "    ]\n",
    ")"
   ]
  },
  {
   "cell_type": "markdown",
   "id": "7938b323",
   "metadata": {},
   "source": [
    "***Building pipelines***"
   ]
  },
  {
   "cell_type": "code",
   "execution_count": null,
   "id": "0d7fb520",
   "metadata": {},
   "outputs": [],
   "source": [
    "\n",
    "clf = Pipeline(steps=[\n",
    "    ('preprocessor', preprocessor),\n",
    "    ('model', LogisticRegression(max_iter=1000))\n",
    "])\n"
   ]
  },
  {
   "cell_type": "code",
   "execution_count": 13,
   "id": "98f8c556",
   "metadata": {},
   "outputs": [
    {
     "name": "stdout",
     "output_type": "stream",
     "text": [
      "Validation Accuracy: 0.7719298245614035\n",
      "Test Accuracy: 0.7902097902097902\n"
     ]
    }
   ],
   "source": [
    "clf.fit(X_train, y_train)\n",
    "\n",
    "from sklearn.metrics import accuracy_score\n",
    "\n",
    "y_val_pred = clf.predict(X_val)\n",
    "print(\"Validation Accuracy:\", accuracy_score(y_val, y_val_pred))\n",
    "\n",
    "y_test_pred = clf.predict(X_test)\n",
    "print(\"Test Accuracy:\", accuracy_score(y_test, y_test_pred))\n"
   ]
  },
  {
   "cell_type": "code",
   "execution_count": null,
   "id": "f77026cd",
   "metadata": {},
   "outputs": [
    {
     "name": "stdout",
     "output_type": "stream",
     "text": [
      "Val Accuracy (No Scaling): 0.7719298245614035\n",
      "Val Accuracy (With Scaling): 0.7719298245614035\n"
     ]
    }
   ],
   "source": [
    "\n",
    "preprocessor_noscale = ColumnTransformer(\n",
    "    transformers=[\n",
    "        ('cat', OneHotEncoder(drop=\"first\"), cat_features),\n",
    "        ('num', 'passthrough', num_features)\n",
    "    ]\n",
    ")\n",
    "\n",
    "clf_noscale = Pipeline(steps=[\n",
    "    ('preprocessor', preprocessor_noscale),\n",
    "    ('model', LogisticRegression(max_iter=1000))\n",
    "])\n",
    "\n",
    "clf_noscale.fit(X_train, y_train)\n",
    "\n",
    "print(\"Val Accuracy (No Scaling):\", accuracy_score(y_val, clf_noscale.predict(X_val)))\n",
    "print(\"Val Accuracy (With Scaling):\", accuracy_score(y_val, clf.predict(X_val)))\n"
   ]
  },
  {
   "cell_type": "code",
   "execution_count": null,
   "id": "15c0d897",
   "metadata": {},
   "outputs": [],
   "source": []
  }
 ],
 "metadata": {
  "kernelspec": {
   "display_name": "Python 3",
   "language": "python",
   "name": "python3"
  },
  "language_info": {
   "codemirror_mode": {
    "name": "ipython",
    "version": 3
   },
   "file_extension": ".py",
   "mimetype": "text/x-python",
   "name": "python",
   "nbconvert_exporter": "python",
   "pygments_lexer": "ipython3",
   "version": "3.13.5"
  }
 },
 "nbformat": 4,
 "nbformat_minor": 5
}
