{
 "cells": [
  {
   "cell_type": "code",
   "execution_count": 1,
   "id": "beb76b84",
   "metadata": {},
   "outputs": [],
   "source": [
    "import numpy as np"
   ]
  },
  {
   "cell_type": "code",
   "execution_count": 2,
   "id": "d1555edd",
   "metadata": {},
   "outputs": [
    {
     "name": "stdout",
     "output_type": "stream",
     "text": [
      "10\n",
      "20\n",
      "30\n",
      "40\n",
      "50\n",
      "60\n",
      "70\n",
      "80\n",
      "90\n",
      "100\n",
      "5th element is 50\n",
      "(10,)\n",
      "int64\n",
      "6th element is 45\n"
     ]
    }
   ],
   "source": [
    "arr=np.array([10,20,30,40,50,60,70,80,90,100]) #1d arr\n",
    "for array in arr:\n",
    "    print(array)\n",
    "print(\"5th element is \" + str(arr[4]))\n",
    "print(arr.shape)\n",
    "print(arr.dtype)\n",
    "arr[5]=45\n",
    "print(\"6th element is \" + str(arr[5]))"
   ]
  },
  {
   "cell_type": "code",
   "execution_count": 3,
   "id": "2d47d80a",
   "metadata": {},
   "outputs": [
    {
     "name": "stdout",
     "output_type": "stream",
     "text": [
      "[1 2 3]\n",
      "[4 5 6]\n",
      "int64\n",
      "(2, 3)\n"
     ]
    }
   ],
   "source": [
    "arr1 = np.array([[1, 2, 3], [4, 5, 6]])#2d array\n",
    "for row in arr1:\n",
    "    print(row)\n",
    "print(arr1.dtype)\n",
    "print(arr1.shape)"
   ]
  },
  {
   "cell_type": "markdown",
   "id": "952eeead",
   "metadata": {},
   "source": [
    "#**array creation**"
   ]
  },
  {
   "cell_type": "code",
   "execution_count": 4,
   "id": "df2d4a47",
   "metadata": {},
   "outputs": [
    {
     "name": "stdout",
     "output_type": "stream",
     "text": [
      "[[1 2 3]\n",
      " [4 5 6]\n",
      " [7 8 9]]\n",
      "-----------------\n",
      "[{1, 2, 3} {4, 5, 6} {8, 9, 7}]\n"
     ]
    }
   ],
   "source": [
    "#coversion from other python structures\n",
    "\n",
    "listarr=np.array([[1,2,3],[4,5,6],[7,8,9]]) #passed 3 list in array functions = 3d array\n",
    "print(listarr)\n",
    "print(\"-----------------\")\n",
    "dictarr=np.array([{1,2,3},{4,5,6},{7,8,9}]) #passed 3 dictionary in array\n",
    "print(dictarr)\n"
   ]
  },
  {
   "cell_type": "code",
   "execution_count": 5,
   "id": "b35b6290",
   "metadata": {},
   "outputs": [
    {
     "name": "stdout",
     "output_type": "stream",
     "text": [
      "1d [0. 0.]\n",
      "2d [[0. 0. 0. 0.]\n",
      " [0. 0. 0. 0.]]\n",
      "through arrange funtion [ 1  2  3  4  5  6  7  8  9 10]\n"
     ]
    }
   ],
   "source": [
    "#creation using zeros and ones\n",
    "zeros1d=np.zeros(2)\n",
    "zeros2d=np.zeros((2,4))\n",
    "print(\"1d \" + str(zeros1d))\n",
    "print(\"2d \" + str(zeros2d))\n",
    "\n",
    "#creation usinng arrange function\n",
    "rng=np.arange(1,11) #(start, end-1)\n",
    "print(\"through arrange funtion \"+ str(rng))\n",
    "\n"
   ]
  },
  {
   "cell_type": "code",
   "execution_count": 6,
   "id": "9d92da8a",
   "metadata": {},
   "outputs": [
    {
     "name": "stdout",
     "output_type": "stream",
     "text": [
      "[ 0  1  2  3  4  5  6  7  8  9 10 11 12 13 14 15 16 17 18 19 20 21 22 23\n",
      " 24 25 26 27 28 29 30 31 32 33 34 35 36 37 38 39 40 41 42 43 44 45 46 47\n",
      " 48 49 50 51 52 53 54 55 56 57 58 59 60 61 62 63 64 65 66 67 68 69 70 71\n",
      " 72 73 74 75 76 77 78 79 80 81 82 83 84 85 86 87 88 89 90 91 92 93 94 95\n",
      " 96 97 98]\n",
      "[[ 0  1  2  3  4  5  6  7  8  9 10 11 12 13 14 15 16 17 18 19 20 21 22 23\n",
      "  24 25 26 27 28 29 30 31 32]\n",
      " [33 34 35 36 37 38 39 40 41 42 43 44 45 46 47 48 49 50 51 52 53 54 55 56\n",
      "  57 58 59 60 61 62 63 64 65]\n",
      " [66 67 68 69 70 71 72 73 74 75 76 77 78 79 80 81 82 83 84 85 86 87 88 89\n",
      "  90 91 92 93 94 95 96 97 98]]\n"
     ]
    }
   ],
   "source": [
    "#reshaping of array\n",
    "newarr=np.arange(99)\n",
    "print(newarr)\n",
    "reshaped= newarr.reshape(3,33)\n",
    "print(reshaped)"
   ]
  },
  {
   "cell_type": "code",
   "execution_count": null,
   "id": "b51956fc",
   "metadata": {},
   "outputs": [],
   "source": []
  }
 ],
 "metadata": {
  "kernelspec": {
   "display_name": "Python 3",
   "language": "python",
   "name": "python3"
  },
  "language_info": {
   "codemirror_mode": {
    "name": "ipython",
    "version": 3
   },
   "file_extension": ".py",
   "mimetype": "text/x-python",
   "name": "python",
   "nbconvert_exporter": "python",
   "pygments_lexer": "ipython3",
   "version": "3.13.5"
  }
 },
 "nbformat": 4,
 "nbformat_minor": 5
}
