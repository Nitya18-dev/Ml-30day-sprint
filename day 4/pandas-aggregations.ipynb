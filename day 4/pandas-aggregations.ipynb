{
 "cells": [
  {
   "cell_type": "code",
   "execution_count": 1,
   "id": "865d1e14",
   "metadata": {},
   "outputs": [],
   "source": [
    "import pandas as pd\n",
    "data = {\n",
    "    \"City\": [\"Delhi\", \"Delhi\", \"Mumbai\", \"Mumbai\", \"Chennai\", \"Chennai\", \"Delhi\", \"Mumbai\"],\n",
    "    \"Product\": [\"Laptop\", \"Mobile\", \"Laptop\", \"Tablet\", \"Mobile\", \"Tablet\", \"Tablet\", \"Laptop\"],\n",
    "    \"Sales\": [70000, 30000, 80000, 20000, 25000, 15000, 22000, 85000],\n",
    "    \"Quantity\": [10, 15, 12, 8, 20, 5, 7, 11]\n",
    "}"
   ]
  },
  {
   "cell_type": "code",
   "execution_count": 2,
   "id": "f341f55e",
   "metadata": {},
   "outputs": [
    {
     "data": {
      "text/plain": [
       "{'City': ['Delhi',\n",
       "  'Delhi',\n",
       "  'Mumbai',\n",
       "  'Mumbai',\n",
       "  'Chennai',\n",
       "  'Chennai',\n",
       "  'Delhi',\n",
       "  'Mumbai'],\n",
       " 'Product': ['Laptop',\n",
       "  'Mobile',\n",
       "  'Laptop',\n",
       "  'Tablet',\n",
       "  'Mobile',\n",
       "  'Tablet',\n",
       "  'Tablet',\n",
       "  'Laptop'],\n",
       " 'Sales': [70000, 30000, 80000, 20000, 25000, 15000, 22000, 85000],\n",
       " 'Quantity': [10, 15, 12, 8, 20, 5, 7, 11]}"
      ]
     },
     "execution_count": 2,
     "metadata": {},
     "output_type": "execute_result"
    }
   ],
   "source": [
    "data"
   ]
  },
  {
   "cell_type": "code",
   "execution_count": 3,
   "id": "01354fd7",
   "metadata": {},
   "outputs": [],
   "source": [
    "df= pd.DataFrame(data)"
   ]
  },
  {
   "cell_type": "code",
   "execution_count": 4,
   "id": "a6e8f3a9",
   "metadata": {},
   "outputs": [
    {
     "data": {
      "text/html": [
       "<div>\n",
       "<style scoped>\n",
       "    .dataframe tbody tr th:only-of-type {\n",
       "        vertical-align: middle;\n",
       "    }\n",
       "\n",
       "    .dataframe tbody tr th {\n",
       "        vertical-align: top;\n",
       "    }\n",
       "\n",
       "    .dataframe thead th {\n",
       "        text-align: right;\n",
       "    }\n",
       "</style>\n",
       "<table border=\"1\" class=\"dataframe\">\n",
       "  <thead>\n",
       "    <tr style=\"text-align: right;\">\n",
       "      <th></th>\n",
       "      <th>City</th>\n",
       "      <th>Product</th>\n",
       "      <th>Sales</th>\n",
       "      <th>Quantity</th>\n",
       "    </tr>\n",
       "  </thead>\n",
       "  <tbody>\n",
       "    <tr>\n",
       "      <th>0</th>\n",
       "      <td>Delhi</td>\n",
       "      <td>Laptop</td>\n",
       "      <td>70000</td>\n",
       "      <td>10</td>\n",
       "    </tr>\n",
       "    <tr>\n",
       "      <th>1</th>\n",
       "      <td>Delhi</td>\n",
       "      <td>Mobile</td>\n",
       "      <td>30000</td>\n",
       "      <td>15</td>\n",
       "    </tr>\n",
       "    <tr>\n",
       "      <th>2</th>\n",
       "      <td>Mumbai</td>\n",
       "      <td>Laptop</td>\n",
       "      <td>80000</td>\n",
       "      <td>12</td>\n",
       "    </tr>\n",
       "    <tr>\n",
       "      <th>3</th>\n",
       "      <td>Mumbai</td>\n",
       "      <td>Tablet</td>\n",
       "      <td>20000</td>\n",
       "      <td>8</td>\n",
       "    </tr>\n",
       "    <tr>\n",
       "      <th>4</th>\n",
       "      <td>Chennai</td>\n",
       "      <td>Mobile</td>\n",
       "      <td>25000</td>\n",
       "      <td>20</td>\n",
       "    </tr>\n",
       "    <tr>\n",
       "      <th>5</th>\n",
       "      <td>Chennai</td>\n",
       "      <td>Tablet</td>\n",
       "      <td>15000</td>\n",
       "      <td>5</td>\n",
       "    </tr>\n",
       "    <tr>\n",
       "      <th>6</th>\n",
       "      <td>Delhi</td>\n",
       "      <td>Tablet</td>\n",
       "      <td>22000</td>\n",
       "      <td>7</td>\n",
       "    </tr>\n",
       "    <tr>\n",
       "      <th>7</th>\n",
       "      <td>Mumbai</td>\n",
       "      <td>Laptop</td>\n",
       "      <td>85000</td>\n",
       "      <td>11</td>\n",
       "    </tr>\n",
       "  </tbody>\n",
       "</table>\n",
       "</div>"
      ],
      "text/plain": [
       "      City Product  Sales  Quantity\n",
       "0    Delhi  Laptop  70000        10\n",
       "1    Delhi  Mobile  30000        15\n",
       "2   Mumbai  Laptop  80000        12\n",
       "3   Mumbai  Tablet  20000         8\n",
       "4  Chennai  Mobile  25000        20\n",
       "5  Chennai  Tablet  15000         5\n",
       "6    Delhi  Tablet  22000         7\n",
       "7   Mumbai  Laptop  85000        11"
      ]
     },
     "execution_count": 4,
     "metadata": {},
     "output_type": "execute_result"
    }
   ],
   "source": [
    "df"
   ]
  },
  {
   "cell_type": "code",
   "execution_count": 5,
   "id": "c2ff43e1",
   "metadata": {},
   "outputs": [
    {
     "name": "stdout",
     "output_type": "stream",
     "text": [
      "      City  Total_Sales     Avg_Sales  Total_Quantity\n",
      "0  Chennai        40000  20000.000000              25\n",
      "1    Delhi       122000  40666.666667              32\n",
      "2   Mumbai       185000  61666.666667              31\n"
     ]
    }
   ],
   "source": [
    "city_summary = df.groupby(\"City\").agg(\n",
    "    Total_Sales=(\"Sales\", \"sum\"),\n",
    "    Avg_Sales=(\"Sales\", \"mean\"),\n",
    "    Total_Quantity=(\"Quantity\", \"sum\")\n",
    ").reset_index()\n",
    "\n",
    "print(city_summary)\n"
   ]
  },
  {
   "cell_type": "code",
   "execution_count": 6,
   "id": "5d9bf415",
   "metadata": {},
   "outputs": [
    {
     "name": "stderr",
     "output_type": "stream",
     "text": [
      "C:\\Users\\Nitya\\AppData\\Local\\Temp\\ipykernel_11388\\3021033598.py:1: DeprecationWarning: DataFrameGroupBy.apply operated on the grouping columns. This behavior is deprecated, and in a future version of pandas the grouping columns will be excluded from the operation. Either pass `include_groups=False` to exclude the groupings or explicitly select the grouping columns after groupby to silence this warning.\n",
      "  top_product= df.groupby(\"City\").apply(lambda x: x.nlargest(2,\"Sales\")).reset_index(drop=True)\n"
     ]
    },
    {
     "data": {
      "text/html": [
       "<div>\n",
       "<style scoped>\n",
       "    .dataframe tbody tr th:only-of-type {\n",
       "        vertical-align: middle;\n",
       "    }\n",
       "\n",
       "    .dataframe tbody tr th {\n",
       "        vertical-align: top;\n",
       "    }\n",
       "\n",
       "    .dataframe thead th {\n",
       "        text-align: right;\n",
       "    }\n",
       "</style>\n",
       "<table border=\"1\" class=\"dataframe\">\n",
       "  <thead>\n",
       "    <tr style=\"text-align: right;\">\n",
       "      <th></th>\n",
       "      <th>City</th>\n",
       "      <th>Product</th>\n",
       "      <th>Sales</th>\n",
       "      <th>Quantity</th>\n",
       "    </tr>\n",
       "  </thead>\n",
       "  <tbody>\n",
       "    <tr>\n",
       "      <th>0</th>\n",
       "      <td>Chennai</td>\n",
       "      <td>Mobile</td>\n",
       "      <td>25000</td>\n",
       "      <td>20</td>\n",
       "    </tr>\n",
       "    <tr>\n",
       "      <th>1</th>\n",
       "      <td>Chennai</td>\n",
       "      <td>Tablet</td>\n",
       "      <td>15000</td>\n",
       "      <td>5</td>\n",
       "    </tr>\n",
       "    <tr>\n",
       "      <th>2</th>\n",
       "      <td>Delhi</td>\n",
       "      <td>Laptop</td>\n",
       "      <td>70000</td>\n",
       "      <td>10</td>\n",
       "    </tr>\n",
       "    <tr>\n",
       "      <th>3</th>\n",
       "      <td>Delhi</td>\n",
       "      <td>Mobile</td>\n",
       "      <td>30000</td>\n",
       "      <td>15</td>\n",
       "    </tr>\n",
       "    <tr>\n",
       "      <th>4</th>\n",
       "      <td>Mumbai</td>\n",
       "      <td>Laptop</td>\n",
       "      <td>85000</td>\n",
       "      <td>11</td>\n",
       "    </tr>\n",
       "    <tr>\n",
       "      <th>5</th>\n",
       "      <td>Mumbai</td>\n",
       "      <td>Laptop</td>\n",
       "      <td>80000</td>\n",
       "      <td>12</td>\n",
       "    </tr>\n",
       "  </tbody>\n",
       "</table>\n",
       "</div>"
      ],
      "text/plain": [
       "      City Product  Sales  Quantity\n",
       "0  Chennai  Mobile  25000        20\n",
       "1  Chennai  Tablet  15000         5\n",
       "2    Delhi  Laptop  70000        10\n",
       "3    Delhi  Mobile  30000        15\n",
       "4   Mumbai  Laptop  85000        11\n",
       "5   Mumbai  Laptop  80000        12"
      ]
     },
     "execution_count": 6,
     "metadata": {},
     "output_type": "execute_result"
    }
   ],
   "source": [
    "top_product= df.groupby(\"City\").apply(lambda x: x.nlargest(2,\"Sales\")).reset_index(drop=True)\n",
    "top_product"
   ]
  },
  {
   "cell_type": "code",
   "execution_count": 7,
   "id": "0ad02604",
   "metadata": {},
   "outputs": [
    {
     "name": "stdout",
     "output_type": "stream",
     "text": [
      "      City Product    Sales  Quantity\n",
      "0    Delhi  Laptop  70000.0        10\n",
      "1    Delhi  Mobile  30000.0        15\n",
      "2   Mumbai  Laptop      NaN        12\n",
      "3   Mumbai  Tablet  20000.0         8\n",
      "4  Chennai  Mobile  25000.0        20\n",
      "5  Chennai    None  15000.0         5\n",
      "6    Delhi  Tablet  22000.0         7\n",
      "7   Mumbai  Laptop  85000.0        11\n"
     ]
    }
   ],
   "source": [
    "df_missing = df.copy()\n",
    "df_missing.loc[2, \"Sales\"] = None  \n",
    "df_missing.loc[5, \"Product\"] = None \n",
    "print(df_missing)"
   ]
  },
  {
   "cell_type": "code",
   "execution_count": null,
   "id": "c5c26a74",
   "metadata": {},
   "outputs": [],
   "source": [
    "#filling missing data\n",
    "df_missing[\"Sales\"].fillna(df_missing[\"Sales\"].mean(), inplace=True)\n",
    "df_missing[\"Product\"].fillna(df_missing[\"Product\"].mode()[0], inplace=True)\n",
    "df_missing"
   ]
  },
  {
   "cell_type": "code",
   "execution_count": 9,
   "id": "b8619cab",
   "metadata": {},
   "outputs": [
    {
     "name": "stdout",
     "output_type": "stream",
     "text": [
      "      City  Total_Sales     Avg_Sales  Total_Quantity  Population\n",
      "0  Chennai        40000  20000.000000              25    11500000\n",
      "1    Delhi       122000  40666.666667              32    32000000\n",
      "2   Mumbai       185000  61666.666667              31    21000000\n"
     ]
    }
   ],
   "source": [
    "#merging\n",
    "city_info = pd.DataFrame({\n",
    "    \"City\": [\"Delhi\", \"Mumbai\", \"Chennai\"],\n",
    "    \"Population\": [32000000, 21000000, 11500000]\n",
    "})\n",
    "merged = pd.merge(city_summary, city_info, on=\"City\", how=\"left\")\n",
    "print(merged)\n"
   ]
  },
  {
   "cell_type": "code",
   "execution_count": 10,
   "id": "46882af2",
   "metadata": {},
   "outputs": [
    {
     "name": "stdout",
     "output_type": "stream",
     "text": [
      "Product  Laptop  Mobile  Tablet\n",
      "City                           \n",
      "Chennai       0   25000   15000\n",
      "Delhi     70000   30000   22000\n",
      "Mumbai   165000       0   20000\n"
     ]
    }
   ],
   "source": [
    "#pivot table\n",
    "pivot_table = df.pivot_table(\n",
    "    values=\"Sales\", \n",
    "    index=\"City\", \n",
    "    columns=\"Product\", \n",
    "    aggfunc=\"sum\", \n",
    "    fill_value=0\n",
    ")\n",
    "print(pivot_table)\n"
   ]
  },
  {
   "cell_type": "code",
   "execution_count": null,
   "id": "bfda1ca5",
   "metadata": {},
   "outputs": [],
   "source": []
  }
 ],
 "metadata": {
  "kernelspec": {
   "display_name": "Python 3",
   "language": "python",
   "name": "python3"
  },
  "language_info": {
   "codemirror_mode": {
    "name": "ipython",
    "version": 3
   },
   "file_extension": ".py",
   "mimetype": "text/x-python",
   "name": "python",
   "nbconvert_exporter": "python",
   "pygments_lexer": "ipython3",
   "version": "3.13.5"
  }
 },
 "nbformat": 4,
 "nbformat_minor": 5
}
