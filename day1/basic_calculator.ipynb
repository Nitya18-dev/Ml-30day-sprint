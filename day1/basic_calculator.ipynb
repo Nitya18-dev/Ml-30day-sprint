{
 "cells": [
  {
   "cell_type": "code",
   "execution_count": 3,
   "id": "ab6095c1",
   "metadata": {},
   "outputs": [
    {
     "name": "stdout",
     "output_type": "stream",
     "text": [
      "25\n"
     ]
    }
   ],
   "source": [
    "a=int(input(\"enter first no\"))\n",
    "operator=input(\"enter operator +,-,*,/,%\")\n",
    "b=int(input(\"enter second no\"))\n",
    "\n",
    "if operator==\"+\":\n",
    "    print(a+b)\n",
    "elif operator==\"-\":\n",
    "    print(a-b)\n",
    "elif operator==\"/\":\n",
    "    print(a/b)\n",
    "elif operator==\"*\":\n",
    "    print(a*b)\n",
    "elif operator==\"%\":\n",
    "    print(a%b)\n"
   ]
  }
 ],
 "metadata": {
  "kernelspec": {
   "display_name": "Python 3",
   "language": "python",
   "name": "python3"
  },
  "language_info": {
   "codemirror_mode": {
    "name": "ipython",
    "version": 3
   },
   "file_extension": ".py",
   "mimetype": "text/x-python",
   "name": "python",
   "nbconvert_exporter": "python",
   "pygments_lexer": "ipython3",
   "version": "3.13.5"
  }
 },
 "nbformat": 4,
 "nbformat_minor": 5
}
