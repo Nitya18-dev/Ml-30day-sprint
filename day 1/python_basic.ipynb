{
 "cells": [
  {
   "cell_type": "code",
   "execution_count": 2,
   "id": "513c63c2",
   "metadata": {},
   "outputs": [
    {
     "name": "stdout",
     "output_type": "stream",
     "text": [
      "hello world\n"
     ]
    }
   ],
   "source": [
    "print(\"hello world\")"
   ]
  },
  {
   "cell_type": "code",
   "execution_count": null,
   "id": "f54fd6ef",
   "metadata": {},
   "outputs": [
    {
     "name": "stdout",
     "output_type": "stream",
     "text": [
      "hello my name is Tony Stark my age is 50\n",
      "Mony Stark\n",
      "5\n"
     ]
    }
   ],
   "source": [
    "#strings\n",
    "name= \"Tony Stark\"\n",
    "age=50\n",
    "print(\"hello my name is \" + name + \" my age is \" + str(age))\n",
    "print(name.replace('T','M'))\n",
    "print(name.find('Stark'))"
   ]
  },
  {
   "cell_type": "code",
   "execution_count": 9,
   "id": "60310dac",
   "metadata": {},
   "outputs": [
    {
     "name": "stdout",
     "output_type": "stream",
     "text": [
      "25\n"
     ]
    }
   ],
   "source": [
    "a=int(input(\"enter first no\"))\n",
    "b=int(input(\"enter second no\"))\n",
    "print(a+b)"
   ]
  },
  {
   "cell_type": "code",
   "execution_count": null,
   "id": "fbe9660a",
   "metadata": {},
   "outputs": [
    {
     "name": "stdout",
     "output_type": "stream",
     "text": [
      "15\n",
      "you are in school\n"
     ]
    }
   ],
   "source": [
    "#if-elif-else\n",
    "age= int(input(\"enter your age\"))\n",
    "print(age)\n",
    "if age>=18:\n",
    "    print(\"you can vote\")\n",
    "elif age>3 and age<18:\n",
    "    print(\"you are in school\")\n",
    "elif age<=3:\n",
    "    print(\"you are kid\")\n",
    "else: print(\"invalid user input\")"
   ]
  },
  {
   "cell_type": "code",
   "execution_count": null,
   "id": "198dca74",
   "metadata": {},
   "outputs": [
    {
     "name": "stdout",
     "output_type": "stream",
     "text": [
      " * \n",
      " *  * \n",
      " *  *  * \n",
      " *  *  *  * \n",
      " *  *  *  *  * \n",
      " *  *  *  *  *  * \n",
      " *  *  *  *  *  *  * \n",
      " *  *  *  *  *  *  *  * \n",
      " *  *  *  *  *  *  *  *  * \n",
      " *  *  *  *  *  *  *  *  *  * \n"
     ]
    }
   ],
   "source": [
    "#while loops\n",
    "i=1\n",
    "while i<=10:\n",
    "    print(i*\" * \")\n",
    "    i=i+1"
   ]
  },
  {
   "cell_type": "code",
   "execution_count": null,
   "id": "ae468af2",
   "metadata": {},
   "outputs": [
    {
     "name": "stdout",
     "output_type": "stream",
     "text": [
      "0\n",
      "1\n",
      "2\n",
      "3\n",
      "4\n",
      "=======================\n",
      "1\n",
      "2\n",
      "3\n",
      "4\n",
      "5\n",
      "6\n",
      "7\n",
      "8\n",
      "9\n",
      "10\n"
     ]
    }
   ],
   "source": [
    "#for loops\n",
    "for i in range(5):\n",
    "    print(i)\n",
    "print(\"=======================\")\n",
    "marks=[1,2,3,4,5,6,7,8,9,10]\n",
    "for mark in marks:\n",
    "    print(mark)"
   ]
  },
  {
   "cell_type": "code",
   "execution_count": 26,
   "id": "bad60164",
   "metadata": {},
   "outputs": [
    {
     "name": "stdout",
     "output_type": "stream",
     "text": [
      "{'english': 50, 'hindi': 44, 'maths': 51, 'science': 55}\n"
     ]
    }
   ],
   "source": [
    "#dictionary\n",
    "marks={\"english\":50,\"hindi\":49, \"maths\": 51}\n",
    "\n",
    "marks[\"science\"]=55\n",
    "marks[\"hindi\"]=44\n",
    "\n",
    "print(marks)"
   ]
  },
  {
   "cell_type": "code",
   "execution_count": null,
   "id": "5309b7a7",
   "metadata": {},
   "outputs": [
    {
     "name": "stdout",
     "output_type": "stream",
     "text": [
      "30\n",
      "70\n"
     ]
    }
   ],
   "source": [
    "#functions\n",
    "def add2(a,b=50):\n",
    "    print(a+b)\n",
    "\n",
    "add2(10,20)\n",
    "add2(20) # +50 is default"
   ]
  }
 ],
 "metadata": {
  "kernelspec": {
   "display_name": "Python 3",
   "language": "python",
   "name": "python3"
  },
  "language_info": {
   "codemirror_mode": {
    "name": "ipython",
    "version": 3
   },
   "file_extension": ".py",
   "mimetype": "text/x-python",
   "name": "python",
   "nbconvert_exporter": "python",
   "pygments_lexer": "ipython3",
   "version": "3.13.5"
  }
 },
 "nbformat": 4,
 "nbformat_minor": 5
}
